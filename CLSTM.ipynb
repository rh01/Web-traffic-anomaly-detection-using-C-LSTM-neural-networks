{
  "nbformat": 4,
  "nbformat_minor": 0,
  "metadata": {
    "colab": {
      "name": "CLSTM.ipynb",
      "provenance": [],
      "collapsed_sections": []
    },
    "kernelspec": {
      "name": "python3",
      "display_name": "Python 3"
    },
    "accelerator": "GPU"
  },
  "cells": [
    {
      "cell_type": "code",
      "metadata": {
        "id": "e4UIGRRZpBwJ",
        "colab_type": "code",
        "colab": {}
      },
      "source": [
        "import pandas as pd\n",
        "import numpy as np"
      ],
      "execution_count": 0,
      "outputs": []
    },
    {
      "cell_type": "code",
      "metadata": {
        "id": "LtYRIaEuuVR8",
        "colab_type": "code",
        "outputId": "dc1d5aaf-2a8f-49bd-9ebc-dc96ee562619",
        "colab": {
          "base_uri": "https://localhost:8080/",
          "height": 122
        }
      },
      "source": [
        "from google.colab import drive\n",
        "drive.mount('/content/drive',force_remount=True)"
      ],
      "execution_count": 2,
      "outputs": [
        {
          "output_type": "stream",
          "text": [
            "Go to this URL in a browser: https://accounts.google.com/o/oauth2/auth?client_id=947318989803-6bn6qk8qdgf4n4g3pfee6491hc0brc4i.apps.googleusercontent.com&redirect_uri=urn%3aietf%3awg%3aoauth%3a2.0%3aoob&response_type=code&scope=email%20https%3a%2f%2fwww.googleapis.com%2fauth%2fdocs.test%20https%3a%2f%2fwww.googleapis.com%2fauth%2fdrive%20https%3a%2f%2fwww.googleapis.com%2fauth%2fdrive.photos.readonly%20https%3a%2f%2fwww.googleapis.com%2fauth%2fpeopleapi.readonly\n",
            "\n",
            "Enter your authorization code:\n",
            "··········\n",
            "Mounted at /content/drive\n"
          ],
          "name": "stdout"
        }
      ]
    },
    {
      "cell_type": "code",
      "metadata": {
        "id": "Av6J7QX2Dumq",
        "colab_type": "code",
        "colab": {}
      },
      "source": [
        "#function to convert dataframe to into 2d array\n",
        "def convert_2d(df_dup):\n",
        "    data_frame = pd.DataFrame()\n",
        "    for i in range(0, df_dup.shape[0]-59):\n",
        "        is_anomaly = False\n",
        "        mylist = []\n",
        "        for j in range(i, i+60):\n",
        "            mylist.append(df_dup['value'].iat[j])\n",
        "            if df_dup['is_anomaly'].iat[j] == 1:\n",
        "                is_anomaly = True\n",
        "        if is_anomaly:\n",
        "            mylist.append(1)\n",
        "        else:\n",
        "            mylist.append(0)\n",
        "        np_Array = np.array(mylist)\n",
        "        mylist = np_Array.T\n",
        "        data_frame = data_frame.append(pd.Series(mylist), ignore_index=True)\n",
        "    return data_frame;"
      ],
      "execution_count": 0,
      "outputs": []
    },
    {
      "cell_type": "code",
      "metadata": {
        "id": "aM4MqPsuP8cb",
        "colab_type": "code",
        "colab": {
          "base_uri": "https://localhost:8080/",
          "height": 204
        },
        "outputId": "4424f540-7231-40f2-8cb7-3bdbddf7c2b1"
      },
      "source": [
        "#view of a sample of data\n",
        "df=pd.read_csv(\"/content/drive/My Drive/dataset/A1Benchmark/real_1.csv\")\n",
        "df.head()"
      ],
      "execution_count": 21,
      "outputs": [
        {
          "output_type": "execute_result",
          "data": {
            "text/html": [
              "<div>\n",
              "<style scoped>\n",
              "    .dataframe tbody tr th:only-of-type {\n",
              "        vertical-align: middle;\n",
              "    }\n",
              "\n",
              "    .dataframe tbody tr th {\n",
              "        vertical-align: top;\n",
              "    }\n",
              "\n",
              "    .dataframe thead th {\n",
              "        text-align: right;\n",
              "    }\n",
              "</style>\n",
              "<table border=\"1\" class=\"dataframe\">\n",
              "  <thead>\n",
              "    <tr style=\"text-align: right;\">\n",
              "      <th></th>\n",
              "      <th>timestamp</th>\n",
              "      <th>value</th>\n",
              "      <th>is_anomaly</th>\n",
              "    </tr>\n",
              "  </thead>\n",
              "  <tbody>\n",
              "    <tr>\n",
              "      <th>0</th>\n",
              "      <td>1</td>\n",
              "      <td>0.000000</td>\n",
              "      <td>0</td>\n",
              "    </tr>\n",
              "    <tr>\n",
              "      <th>1</th>\n",
              "      <td>2</td>\n",
              "      <td>0.091758</td>\n",
              "      <td>0</td>\n",
              "    </tr>\n",
              "    <tr>\n",
              "      <th>2</th>\n",
              "      <td>3</td>\n",
              "      <td>0.172297</td>\n",
              "      <td>0</td>\n",
              "    </tr>\n",
              "    <tr>\n",
              "      <th>3</th>\n",
              "      <td>4</td>\n",
              "      <td>0.226219</td>\n",
              "      <td>0</td>\n",
              "    </tr>\n",
              "    <tr>\n",
              "      <th>4</th>\n",
              "      <td>5</td>\n",
              "      <td>0.176358</td>\n",
              "      <td>0</td>\n",
              "    </tr>\n",
              "  </tbody>\n",
              "</table>\n",
              "</div>"
            ],
            "text/plain": [
              "   timestamp     value  is_anomaly\n",
              "0          1  0.000000           0\n",
              "1          2  0.091758           0\n",
              "2          3  0.172297           0\n",
              "3          4  0.226219           0\n",
              "4          5  0.176358           0"
            ]
          },
          "metadata": {
            "tags": []
          },
          "execution_count": 21
        }
      ]
    },
    {
      "cell_type": "code",
      "metadata": {
        "id": "rQU-kibIMXZ4",
        "colab_type": "code",
        "colab": {}
      },
      "source": [
        "#for concatenating all the files and\n",
        "#Preprocessing the data\n",
        "from sklearn import preprocessing\n",
        "import glob\n",
        "path = r'/content/drive/My Drive/dataset/A1Benchmark' #set the path accordingly\n",
        "all_files=glob.glob(path+\"/*.csv\")\n",
        "\n",
        "dataset_conc=[]\n",
        "for filename in all_files:\n",
        "  df=pd.read_csv(filename,index_col=None,header=0)\n",
        "  df=df.replace(0,np.nan)\n",
        "  df=df.dropna(axis=0, how='any',subset=['value'])\n",
        "  df.value = preprocessing.normalize([df.value]).T\n",
        "  dataset_conc.append(convert_2d(df)) \n",
        "frame=pd.concat(dataset_conc,axis=0,ignore_index=True)\n"
      ],
      "execution_count": 0,
      "outputs": []
    },
    {
      "cell_type": "code",
      "metadata": {
        "id": "5wwWC29liiYZ",
        "colab_type": "code",
        "outputId": "2c89f044-fd11-429d-9a56-7769c43fab8c",
        "colab": {
          "base_uri": "https://localhost:8080/",
          "height": 295
        }
      },
      "source": [
        "import matplotlib.pyplot as plt\n",
        "plt.plot(df.timestamp,df.value)\n",
        "plt.xlabel(\"Timestamp\")\n",
        "plt.ylabel(\"NormalizedValue\")\n",
        "plt.title(\" Example plot of web traffic after preprocessing \")\n",
        "plt.show()"
      ],
      "execution_count": 5,
      "outputs": [
        {
          "output_type": "display_data",
          "data": {
            "image/png": "[encoded data removed]",
            "text/plain": [
              "<Figure size 432x288 with 1 Axes>"
            ]
          },
          "metadata": {
            "tags": [],
            "needs_background": "light"
          }
        }
      ]
    },
    {
      "cell_type": "code",
      "metadata": {
        "id": "4ZqPhFBL9UZ1",
        "colab_type": "code",
        "outputId": "2903e8b2-fb6f-4ef9-aff1-0fcf71180e15",
        "colab": {
          "base_uri": "https://localhost:8080/",
          "height": 34
        }
      },
      "source": [
        "from keras.models import Sequential\n",
        "from keras.layers import Dense,Reshape,Conv2D,Flatten,MaxPooling1D,Conv1D,LSTM\n",
        "from keras import optimizers"
      ],
      "execution_count": 6,
      "outputs": [
        {
          "output_type": "stream",
          "text": [
            "Using TensorFlow backend.\n"
          ],
          "name": "stderr"
        }
      ]
    },
    {
      "cell_type": "code",
      "metadata": {
        "id": "muJARzWyaSq1",
        "colab_type": "code",
        "outputId": "22265acd-3563-476f-87c5-035572e8eec7",
        "colab": {
          "base_uri": "https://localhost:8080/",
          "height": 459
        }
      },
      "source": [
        "#building a classifier\n",
        "model=Sequential()\n",
        "model.add(Conv1D(64, kernel_size=5, strides=1, padding='same', activation='tanh',input_shape=(60, 1)))\n",
        "model.add(MaxPooling1D(pool_size=2, strides=2))\n",
        "model.add(Conv1D(64, kernel_size=5, strides=1, padding='same', activation='tanh'))\n",
        "model.add(MaxPooling1D(pool_size=2, strides=2))\n",
        "model.add(Reshape((1,15*64)))\n",
        "model.add(LSTM(64, activation='tanh',return_sequences='False'))\n",
        "model.add(Flatten())\n",
        "model.add(Dense(32, activation='tanh'))\n",
        "model.add(Dense(2, activation='softmax'))\n",
        "model.compile(loss='binary_crossentropy', optimizer='adam',metrics=['accuracy'])\n",
        "model.summary()\n"
      ],
      "execution_count": 8,
      "outputs": [
        {
          "output_type": "stream",
          "text": [
            "Model: \"sequential_2\"\n",
            "_________________________________________________________________\n",
            "Layer (type)                 Output Shape              Param #   \n",
            "=================================================================\n",
            "conv1d_3 (Conv1D)            (None, 60, 64)            384       \n",
            "_________________________________________________________________\n",
            "max_pooling1d_3 (MaxPooling1 (None, 30, 64)            0         \n",
            "_________________________________________________________________\n",
            "conv1d_4 (Conv1D)            (None, 30, 64)            20544     \n",
            "_________________________________________________________________\n",
            "max_pooling1d_4 (MaxPooling1 (None, 15, 64)            0         \n",
            "_________________________________________________________________\n",
            "reshape_2 (Reshape)          (None, 1, 960)            0         \n",
            "_________________________________________________________________\n",
            "lstm_2 (LSTM)                (None, 1, 64)             262400    \n",
            "_________________________________________________________________\n",
            "flatten_2 (Flatten)          (None, 64)                0         \n",
            "_________________________________________________________________\n",
            "dense_3 (Dense)              (None, 32)                2080      \n",
            "_________________________________________________________________\n",
            "dense_4 (Dense)              (None, 2)                 66        \n",
            "=================================================================\n",
            "Total params: 285,474\n",
            "Trainable params: 285,474\n",
            "Non-trainable params: 0\n",
            "_________________________________________________________________\n"
          ],
          "name": "stdout"
        }
      ]
    },
    {
      "cell_type": "code",
      "metadata": {
        "id": "FSm1tx222vYa",
        "colab_type": "code",
        "outputId": "4fd25a66-9640-40c6-8b0b-76b1202f56ac",
        "colab": {
          "base_uri": "https://localhost:8080/",
          "height": 224
        }
      },
      "source": [
        "frame.head()"
      ],
      "execution_count": 9,
      "outputs": [
        {
          "output_type": "execute_result",
          "data": {
            "text/html": [
              "<div>\n",
              "<style scoped>\n",
              "    .dataframe tbody tr th:only-of-type {\n",
              "        vertical-align: middle;\n",
              "    }\n",
              "\n",
              "    .dataframe tbody tr th {\n",
              "        vertical-align: top;\n",
              "    }\n",
              "\n",
              "    .dataframe thead th {\n",
              "        text-align: right;\n",
              "    }\n",
              "</style>\n",
              "<table border=\"1\" class=\"dataframe\">\n",
              "  <thead>\n",
              "    <tr style=\"text-align: right;\">\n",
              "      <th></th>\n",
              "      <th>0</th>\n",
              "      <th>1</th>\n",
              "      <th>2</th>\n",
              "      <th>3</th>\n",
              "      <th>4</th>\n",
              "      <th>5</th>\n",
              "      <th>6</th>\n",
              "      <th>7</th>\n",
              "      <th>8</th>\n",
              "      <th>9</th>\n",
              "      <th>10</th>\n",
              "      <th>11</th>\n",
              "      <th>12</th>\n",
              "      <th>13</th>\n",
              "      <th>14</th>\n",
              "      <th>15</th>\n",
              "      <th>16</th>\n",
              "      <th>17</th>\n",
              "      <th>18</th>\n",
              "      <th>19</th>\n",
              "      <th>20</th>\n",
              "      <th>21</th>\n",
              "      <th>22</th>\n",
              "      <th>23</th>\n",
              "      <th>24</th>\n",
              "      <th>25</th>\n",
              "      <th>26</th>\n",
              "      <th>27</th>\n",
              "      <th>28</th>\n",
              "      <th>29</th>\n",
              "      <th>30</th>\n",
              "      <th>31</th>\n",
              "      <th>32</th>\n",
              "      <th>33</th>\n",
              "      <th>34</th>\n",
              "      <th>35</th>\n",
              "      <th>36</th>\n",
              "      <th>37</th>\n",
              "      <th>38</th>\n",
              "      <th>39</th>\n",
              "      <th>40</th>\n",
              "      <th>41</th>\n",
              "      <th>42</th>\n",
              "      <th>43</th>\n",
              "      <th>44</th>\n",
              "      <th>45</th>\n",
              "      <th>46</th>\n",
              "      <th>47</th>\n",
              "      <th>48</th>\n",
              "      <th>49</th>\n",
              "      <th>50</th>\n",
              "      <th>51</th>\n",
              "      <th>52</th>\n",
              "      <th>53</th>\n",
              "      <th>54</th>\n",
              "      <th>55</th>\n",
              "      <th>56</th>\n",
              "      <th>57</th>\n",
              "      <th>58</th>\n",
              "      <th>59</th>\n",
              "      <th>60</th>\n",
              "    </tr>\n",
              "  </thead>\n",
              "  <tbody>\n",
              "    <tr>\n",
              "      <th>0</th>\n",
              "      <td>0.035790</td>\n",
              "      <td>0.030838</td>\n",
              "      <td>0.031739</td>\n",
              "      <td>0.035565</td>\n",
              "      <td>0.032189</td>\n",
              "      <td>0.031739</td>\n",
              "      <td>0.034215</td>\n",
              "      <td>0.029037</td>\n",
              "      <td>0.034215</td>\n",
              "      <td>0.033314</td>\n",
              "      <td>0.026561</td>\n",
              "      <td>0.028587</td>\n",
              "      <td>0.027912</td>\n",
              "      <td>0.029713</td>\n",
              "      <td>0.027237</td>\n",
              "      <td>0.026786</td>\n",
              "      <td>0.027912</td>\n",
              "      <td>0.023410</td>\n",
              "      <td>0.029488</td>\n",
              "      <td>0.026111</td>\n",
              "      <td>0.029037</td>\n",
              "      <td>0.030388</td>\n",
              "      <td>0.031739</td>\n",
              "      <td>0.030613</td>\n",
              "      <td>0.027687</td>\n",
              "      <td>0.028137</td>\n",
              "      <td>0.032639</td>\n",
              "      <td>0.026111</td>\n",
              "      <td>0.031514</td>\n",
              "      <td>0.029488</td>\n",
              "      <td>0.024761</td>\n",
              "      <td>0.025886</td>\n",
              "      <td>0.028362</td>\n",
              "      <td>0.028812</td>\n",
              "      <td>0.025886</td>\n",
              "      <td>0.026111</td>\n",
              "      <td>0.027462</td>\n",
              "      <td>0.029263</td>\n",
              "      <td>0.026336</td>\n",
              "      <td>0.027012</td>\n",
              "      <td>0.024085</td>\n",
              "      <td>0.022960</td>\n",
              "      <td>0.023410</td>\n",
              "      <td>0.024310</td>\n",
              "      <td>0.022960</td>\n",
              "      <td>0.025661</td>\n",
              "      <td>0.025661</td>\n",
              "      <td>0.026111</td>\n",
              "      <td>0.021834</td>\n",
              "      <td>0.028137</td>\n",
              "      <td>0.024761</td>\n",
              "      <td>0.026786</td>\n",
              "      <td>0.025211</td>\n",
              "      <td>0.032414</td>\n",
              "      <td>0.028812</td>\n",
              "      <td>0.032864</td>\n",
              "      <td>0.029488</td>\n",
              "      <td>0.032414</td>\n",
              "      <td>0.029938</td>\n",
              "      <td>0.029713</td>\n",
              "      <td>0.0</td>\n",
              "    </tr>\n",
              "    <tr>\n",
              "      <th>1</th>\n",
              "      <td>0.030838</td>\n",
              "      <td>0.031739</td>\n",
              "      <td>0.035565</td>\n",
              "      <td>0.032189</td>\n",
              "      <td>0.031739</td>\n",
              "      <td>0.034215</td>\n",
              "      <td>0.029037</td>\n",
              "      <td>0.034215</td>\n",
              "      <td>0.033314</td>\n",
              "      <td>0.026561</td>\n",
              "      <td>0.028587</td>\n",
              "      <td>0.027912</td>\n",
              "      <td>0.029713</td>\n",
              "      <td>0.027237</td>\n",
              "      <td>0.026786</td>\n",
              "      <td>0.027912</td>\n",
              "      <td>0.023410</td>\n",
              "      <td>0.029488</td>\n",
              "      <td>0.026111</td>\n",
              "      <td>0.029037</td>\n",
              "      <td>0.030388</td>\n",
              "      <td>0.031739</td>\n",
              "      <td>0.030613</td>\n",
              "      <td>0.027687</td>\n",
              "      <td>0.028137</td>\n",
              "      <td>0.032639</td>\n",
              "      <td>0.026111</td>\n",
              "      <td>0.031514</td>\n",
              "      <td>0.029488</td>\n",
              "      <td>0.024761</td>\n",
              "      <td>0.025886</td>\n",
              "      <td>0.028362</td>\n",
              "      <td>0.028812</td>\n",
              "      <td>0.025886</td>\n",
              "      <td>0.026111</td>\n",
              "      <td>0.027462</td>\n",
              "      <td>0.029263</td>\n",
              "      <td>0.026336</td>\n",
              "      <td>0.027012</td>\n",
              "      <td>0.024085</td>\n",
              "      <td>0.022960</td>\n",
              "      <td>0.023410</td>\n",
              "      <td>0.024310</td>\n",
              "      <td>0.022960</td>\n",
              "      <td>0.025661</td>\n",
              "      <td>0.025661</td>\n",
              "      <td>0.026111</td>\n",
              "      <td>0.021834</td>\n",
              "      <td>0.028137</td>\n",
              "      <td>0.024761</td>\n",
              "      <td>0.026786</td>\n",
              "      <td>0.025211</td>\n",
              "      <td>0.032414</td>\n",
              "      <td>0.028812</td>\n",
              "      <td>0.032864</td>\n",
              "      <td>0.029488</td>\n",
              "      <td>0.032414</td>\n",
              "      <td>0.029938</td>\n",
              "      <td>0.029713</td>\n",
              "      <td>0.029938</td>\n",
              "      <td>0.0</td>\n",
              "    </tr>\n",
              "    <tr>\n",
              "      <th>2</th>\n",
              "      <td>0.031739</td>\n",
              "      <td>0.035565</td>\n",
              "      <td>0.032189</td>\n",
              "      <td>0.031739</td>\n",
              "      <td>0.034215</td>\n",
              "      <td>0.029037</td>\n",
              "      <td>0.034215</td>\n",
              "      <td>0.033314</td>\n",
              "      <td>0.026561</td>\n",
              "      <td>0.028587</td>\n",
              "      <td>0.027912</td>\n",
              "      <td>0.029713</td>\n",
              "      <td>0.027237</td>\n",
              "      <td>0.026786</td>\n",
              "      <td>0.027912</td>\n",
              "      <td>0.023410</td>\n",
              "      <td>0.029488</td>\n",
              "      <td>0.026111</td>\n",
              "      <td>0.029037</td>\n",
              "      <td>0.030388</td>\n",
              "      <td>0.031739</td>\n",
              "      <td>0.030613</td>\n",
              "      <td>0.027687</td>\n",
              "      <td>0.028137</td>\n",
              "      <td>0.032639</td>\n",
              "      <td>0.026111</td>\n",
              "      <td>0.031514</td>\n",
              "      <td>0.029488</td>\n",
              "      <td>0.024761</td>\n",
              "      <td>0.025886</td>\n",
              "      <td>0.028362</td>\n",
              "      <td>0.028812</td>\n",
              "      <td>0.025886</td>\n",
              "      <td>0.026111</td>\n",
              "      <td>0.027462</td>\n",
              "      <td>0.029263</td>\n",
              "      <td>0.026336</td>\n",
              "      <td>0.027012</td>\n",
              "      <td>0.024085</td>\n",
              "      <td>0.022960</td>\n",
              "      <td>0.023410</td>\n",
              "      <td>0.024310</td>\n",
              "      <td>0.022960</td>\n",
              "      <td>0.025661</td>\n",
              "      <td>0.025661</td>\n",
              "      <td>0.026111</td>\n",
              "      <td>0.021834</td>\n",
              "      <td>0.028137</td>\n",
              "      <td>0.024761</td>\n",
              "      <td>0.026786</td>\n",
              "      <td>0.025211</td>\n",
              "      <td>0.032414</td>\n",
              "      <td>0.028812</td>\n",
              "      <td>0.032864</td>\n",
              "      <td>0.029488</td>\n",
              "      <td>0.032414</td>\n",
              "      <td>0.029938</td>\n",
              "      <td>0.029713</td>\n",
              "      <td>0.029938</td>\n",
              "      <td>0.029488</td>\n",
              "      <td>0.0</td>\n",
              "    </tr>\n",
              "    <tr>\n",
              "      <th>3</th>\n",
              "      <td>0.035565</td>\n",
              "      <td>0.032189</td>\n",
              "      <td>0.031739</td>\n",
              "      <td>0.034215</td>\n",
              "      <td>0.029037</td>\n",
              "      <td>0.034215</td>\n",
              "      <td>0.033314</td>\n",
              "      <td>0.026561</td>\n",
              "      <td>0.028587</td>\n",
              "      <td>0.027912</td>\n",
              "      <td>0.029713</td>\n",
              "      <td>0.027237</td>\n",
              "      <td>0.026786</td>\n",
              "      <td>0.027912</td>\n",
              "      <td>0.023410</td>\n",
              "      <td>0.029488</td>\n",
              "      <td>0.026111</td>\n",
              "      <td>0.029037</td>\n",
              "      <td>0.030388</td>\n",
              "      <td>0.031739</td>\n",
              "      <td>0.030613</td>\n",
              "      <td>0.027687</td>\n",
              "      <td>0.028137</td>\n",
              "      <td>0.032639</td>\n",
              "      <td>0.026111</td>\n",
              "      <td>0.031514</td>\n",
              "      <td>0.029488</td>\n",
              "      <td>0.024761</td>\n",
              "      <td>0.025886</td>\n",
              "      <td>0.028362</td>\n",
              "      <td>0.028812</td>\n",
              "      <td>0.025886</td>\n",
              "      <td>0.026111</td>\n",
              "      <td>0.027462</td>\n",
              "      <td>0.029263</td>\n",
              "      <td>0.026336</td>\n",
              "      <td>0.027012</td>\n",
              "      <td>0.024085</td>\n",
              "      <td>0.022960</td>\n",
              "      <td>0.023410</td>\n",
              "      <td>0.024310</td>\n",
              "      <td>0.022960</td>\n",
              "      <td>0.025661</td>\n",
              "      <td>0.025661</td>\n",
              "      <td>0.026111</td>\n",
              "      <td>0.021834</td>\n",
              "      <td>0.028137</td>\n",
              "      <td>0.024761</td>\n",
              "      <td>0.026786</td>\n",
              "      <td>0.025211</td>\n",
              "      <td>0.032414</td>\n",
              "      <td>0.028812</td>\n",
              "      <td>0.032864</td>\n",
              "      <td>0.029488</td>\n",
              "      <td>0.032414</td>\n",
              "      <td>0.029938</td>\n",
              "      <td>0.029713</td>\n",
              "      <td>0.029938</td>\n",
              "      <td>0.029488</td>\n",
              "      <td>0.027687</td>\n",
              "      <td>0.0</td>\n",
              "    </tr>\n",
              "    <tr>\n",
              "      <th>4</th>\n",
              "      <td>0.032189</td>\n",
              "      <td>0.031739</td>\n",
              "      <td>0.034215</td>\n",
              "      <td>0.029037</td>\n",
              "      <td>0.034215</td>\n",
              "      <td>0.033314</td>\n",
              "      <td>0.026561</td>\n",
              "      <td>0.028587</td>\n",
              "      <td>0.027912</td>\n",
              "      <td>0.029713</td>\n",
              "      <td>0.027237</td>\n",
              "      <td>0.026786</td>\n",
              "      <td>0.027912</td>\n",
              "      <td>0.023410</td>\n",
              "      <td>0.029488</td>\n",
              "      <td>0.026111</td>\n",
              "      <td>0.029037</td>\n",
              "      <td>0.030388</td>\n",
              "      <td>0.031739</td>\n",
              "      <td>0.030613</td>\n",
              "      <td>0.027687</td>\n",
              "      <td>0.028137</td>\n",
              "      <td>0.032639</td>\n",
              "      <td>0.026111</td>\n",
              "      <td>0.031514</td>\n",
              "      <td>0.029488</td>\n",
              "      <td>0.024761</td>\n",
              "      <td>0.025886</td>\n",
              "      <td>0.028362</td>\n",
              "      <td>0.028812</td>\n",
              "      <td>0.025886</td>\n",
              "      <td>0.026111</td>\n",
              "      <td>0.027462</td>\n",
              "      <td>0.029263</td>\n",
              "      <td>0.026336</td>\n",
              "      <td>0.027012</td>\n",
              "      <td>0.024085</td>\n",
              "      <td>0.022960</td>\n",
              "      <td>0.023410</td>\n",
              "      <td>0.024310</td>\n",
              "      <td>0.022960</td>\n",
              "      <td>0.025661</td>\n",
              "      <td>0.025661</td>\n",
              "      <td>0.026111</td>\n",
              "      <td>0.021834</td>\n",
              "      <td>0.028137</td>\n",
              "      <td>0.024761</td>\n",
              "      <td>0.026786</td>\n",
              "      <td>0.025211</td>\n",
              "      <td>0.032414</td>\n",
              "      <td>0.028812</td>\n",
              "      <td>0.032864</td>\n",
              "      <td>0.029488</td>\n",
              "      <td>0.032414</td>\n",
              "      <td>0.029938</td>\n",
              "      <td>0.029713</td>\n",
              "      <td>0.029938</td>\n",
              "      <td>0.029488</td>\n",
              "      <td>0.027687</td>\n",
              "      <td>0.029713</td>\n",
              "      <td>0.0</td>\n",
              "    </tr>\n",
              "  </tbody>\n",
              "</table>\n",
              "</div>"
            ],
            "text/plain": [
              "         0         1         2         3   ...        57        58        59   60\n",
              "0  0.035790  0.030838  0.031739  0.035565  ...  0.032414  0.029938  0.029713  0.0\n",
              "1  0.030838  0.031739  0.035565  0.032189  ...  0.029938  0.029713  0.029938  0.0\n",
              "2  0.031739  0.035565  0.032189  0.031739  ...  0.029713  0.029938  0.029488  0.0\n",
              "3  0.035565  0.032189  0.031739  0.034215  ...  0.029938  0.029488  0.027687  0.0\n",
              "4  0.032189  0.031739  0.034215  0.029037  ...  0.029488  0.027687  0.029713  0.0\n",
              "\n",
              "[5 rows x 61 columns]"
            ]
          },
          "metadata": {
            "tags": []
          },
          "execution_count": 9
        }
      ]
    },
    {
      "cell_type": "code",
      "metadata": {
        "id": "17eGtbmlA6_W",
        "colab_type": "code",
        "colab": {}
      },
      "source": [
        "#train test split\n",
        "y=frame.iloc[:, 60]\n",
        "X=frame.iloc[:, 0:60]\n",
        "X_train = X[:int(X.shape[0]*0.7)]\n",
        "X_test = X[int(X.shape[0]*0.7):]\n",
        "y_train = y[:int(X.shape[0]*0.7)]\n",
        "y_test = y[int(X.shape[0]*0.7):]"
      ],
      "execution_count": 0,
      "outputs": []
    },
    {
      "cell_type": "code",
      "metadata": {
        "id": "U2a-6A6Cncd0",
        "colab_type": "code",
        "colab": {}
      },
      "source": [
        "#reshaping the data \n",
        "X_train=X_train.to_numpy()\n",
        "nrows, ncols = X_train.shape\n",
        "X_train = X_train.reshape(nrows, ncols, 1)\n",
        "\n",
        "X_test=X_test.to_numpy()\n",
        "nrows, ncols = X_test.shape\n",
        "X_test = X_test.reshape(nrows, ncols, 1)\n",
        "\n",
        "y_test = y_test.to_numpy()\n"
      ],
      "execution_count": 0,
      "outputs": []
    },
    {
      "cell_type": "code",
      "metadata": {
        "id": "XlDDkkDTrMFV",
        "colab_type": "code",
        "colab": {}
      },
      "source": [
        "#converting y_train to categorical\n",
        "from keras.utils import to_categorical\n",
        "\n",
        "y_train = to_categorical(y_train)"
      ],
      "execution_count": 0,
      "outputs": []
    },
    {
      "cell_type": "code",
      "metadata": {
        "id": "fi4zE8CKYyoL",
        "colab_type": "code",
        "colab": {}
      },
      "source": [
        "#train the model\n",
        "history=model.fit(x=X_train, y=y_train, batch_size=512, epochs=500, verbose=1)\n"
      ],
      "execution_count": 0,
      "outputs": []
    },
    {
      "cell_type": "code",
      "metadata": {
        "id": "ASyCnI2IQ1SA",
        "colab_type": "code",
        "colab": {
          "base_uri": "https://localhost:8080/",
          "height": 279
        },
        "outputId": "8ea84859-c5e1-4cf3-e588-5ea5cf6b6aa4"
      },
      "source": [
        "plt.plot(history.history['accuracy'])\n",
        "plt.xlabel('epoch')\n",
        "plt.ylabel('accuracy')\n",
        "plt.show()\n"
      ],
      "execution_count": 22,
      "outputs": [
        {
          "output_type": "display_data",
          "data": {
            "image/png": "[encoded data removed]",
            "text/plain": [
              "<Figure size 432x288 with 1 Axes>"
            ]
          },
          "metadata": {
            "tags": [],
            "needs_background": "light"
          }
        }
      ]
    },
    {
      "cell_type": "code",
      "metadata": {
        "id": "2O21se0iOJEE",
        "colab_type": "code",
        "outputId": "0ac59ee9-47b3-42bc-8a84-eb6847299352",
        "colab": {
          "base_uri": "https://localhost:8080/",
          "height": 34
        }
      },
      "source": [
        "  # list all data in history\n",
        "print(history.history.keys())"
      ],
      "execution_count": 14,
      "outputs": [
        {
          "output_type": "stream",
          "text": [
            "dict_keys(['loss', 'accuracy'])\n"
          ],
          "name": "stdout"
        }
      ]
    },
    {
      "cell_type": "code",
      "metadata": {
        "id": "Z5iY1H1PJRT7",
        "colab_type": "code",
        "outputId": "1221dfd0-8187-406a-f3de-86a52880ac26",
        "colab": {
          "base_uri": "https://localhost:8080/",
          "height": 282
        }
      },
      "source": [
        "plt.plot(history.history['loss'])\n",
        "plt.xlabel('epoch')\n",
        "plt.ylabel('loss')\n",
        "plt.show()"
      ],
      "execution_count": 15,
      "outputs": [
        {
          "output_type": "display_data",
          "data": {
            "image/png": "[encoded data removed]",
            "text/plain": [
              "<Figure size 432x288 with 1 Axes>"
            ]
          },
          "metadata": {
            "tags": [],
            "needs_background": "light"
          }
        }
      ]
    },
    {
      "cell_type": "code",
      "metadata": {
        "id": "21lbZghj02U7",
        "colab_type": "code",
        "colab": {}
      },
      "source": [
        " #predicting on test data\n",
        "y_pred=model.predict_classes(X_test)"
      ],
      "execution_count": 0,
      "outputs": []
    },
    {
      "cell_type": "code",
      "metadata": {
        "id": "m3jDHAml2Cpu",
        "colab_type": "code",
        "colab": {}
      },
      "source": [
        "#evaluate performance\n",
        "from sklearn.metrics import confusion_matrix, accuracy_score, precision_score, recall_score, f1_score\n",
        "\n",
        "Confusion_Matrix = confusion_matrix(y_test, y_pred)\n",
        "Accuracy = accuracy_score(y_test, y_pred)\n",
        "precision = precision_score(y_test, y_pred, average='binary')\n",
        "recall = recall_score(y_test, y_pred, average='binary')\n",
        "F1_Score = f1_score(y_test, y_pred, average='binary')"
      ],
      "execution_count": 0,
      "outputs": []
    },
    {
      "cell_type": "code",
      "metadata": {
        "id": "n2ser3QQxrTB",
        "colab_type": "code",
        "outputId": "9650abca-560e-4e41-d173-e35be7694793",
        "colab": {
          "base_uri": "https://localhost:8080/",
          "height": 136
        }
      },
      "source": [
        "print(\"Confusion_Matrix\")\n",
        "print(Confusion_Matrix)\n",
        "print(\"Accuracy \", Accuracy)\n",
        "print(\"Precision \", precision)\n",
        "print(\"recall \", recall)\n",
        "print(\"f1_score \", F1_Score)"
      ],
      "execution_count": 18,
      "outputs": [
        {
          "output_type": "stream",
          "text": [
            "Confusion_Matrix\n",
            "[[22955  1230]\n",
            " [  704  1729]]\n",
            "Accuracy  0.9273423998797806\n",
            "Precision  0.5843190266982089\n",
            "recall  0.7106452938758734\n",
            "f1_score  0.6413204747774481\n"
          ],
          "name": "stdout"
        }
      ]
    },
    {
      "cell_type": "code",
      "metadata": {
        "id": "UdxafLyg_31u",
        "colab_type": "code",
        "colab": {}
      },
      "source": [
        ""
      ],
      "execution_count": 0,
      "outputs": []
    }
  ]
}